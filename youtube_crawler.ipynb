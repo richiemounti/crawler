{
 "metadata": {
  "language_info": {
   "codemirror_mode": {
    "name": "ipython",
    "version": 3
   },
   "file_extension": ".py",
   "mimetype": "text/x-python",
   "name": "python",
   "nbconvert_exporter": "python",
   "pygments_lexer": "ipython3",
   "version": "3.8.2-final"
  },
  "orig_nbformat": 2,
  "kernelspec": {
   "name": "python38264bitbf4ab090688946bab966c922bd2d0d7a",
   "display_name": "Python 3.8.2 64-bit"
  }
 },
 "nbformat": 4,
 "nbformat_minor": 2,
 "cells": [
  {
   "cell_type": "code",
   "execution_count": 1,
   "metadata": {},
   "outputs": [],
   "source": [
    "import json\n",
    "import os\n",
    "from datetime import datetime\n",
    "from selenium import webdriver\n",
    "from selenium.webdriver.common.keys import Keys\n",
    "from selenium.webdriver.firefox.options import Options\n",
    "\n",
    "options = Options()\n",
    "options.headless = True"
   ]
  },
  {
   "cell_type": "code",
   "execution_count": 2,
   "metadata": {},
   "outputs": [],
   "source": [
    "def Get_info():\n",
    "    url = input('Enter YouTube Video Url- ')\n",
    "    driver = webdriver.Firefox(options=options)\n",
    "    driver.get(url)\n",
    "    Vid = {}\n",
    "    References = {}\n",
    "\n",
    "    References['Title'] = \"//*[@id='container']/h1\"\n",
    "    References['Channel'] = \"//*[@id='text']/a\"\n",
    "    References['Subscribers'] = \"//*[@id='owner-sub-count']\"\n",
    "    References['Tags'] = \"//*[@id='container']/yt-formatted-string\"\n",
    "    References['Views'] = \"//*[@id='count']/yt-view-count-renderer\"\n",
    "    References['Likes'] = \"/html/body/ytd-app/div/ytd-page-manager/ytd-watch-flexy/div[4]/div[1]/div/div[5]/div[2]/ytd-video-primary-info-renderer/div/div/div[3]/div/ytd-menu-renderer/div/ytd-toggle-button-renderer[1]/a/yt-icon-button/button/yt-icon\"\n",
    "    References['Dislikes'] = \"/html/body/ytd-app/div/ytd-page-manager/ytd-watch-flexy/div[4]/div[1]/div/div[5]/div[2]/ytd-video-primary-info-renderer/div/div/div[3]/div/ytd-menu-renderer/div/ytd-toggle-button-renderer[2]/a/yt-icon-button/button/yt-icon\"\n",
    "    References['DateUpload'] = \"//*[@id='date']/yt-formatted-string\"\n",
    "\n",
    "    INFO_List = list()\n",
    "    for i in range(0, len(References)):\n",
    "        driver_elements = driver.find_elements_by_xpath(References[list(References.keys())[i]])\n",
    "        for value in driver_elements:\n",
    "            INFO_List.append(value.text)\n",
    "\n",
    "    Vid = dict(zip(list(References.keys()), INFO_List))\n",
    "    Vid['Link'] = url\n",
    "    Related = {}\n",
    "    Related_video_links = []\n",
    "    Related_video_title = []\n",
    "    Related_videos = driver.find_elements_by_xpath(\"//*[@id='video-title']\")\n",
    "    Related_video_links = [links.get_attribute(\"href\") for links in driver.find_elements_by_xpath(\"//*[@id='dismissable']/div/div[1]/a\")]\n",
    "    Related_video_title = [videos.text for videos in Related_videos][:len(Related_video_links)]\n",
    "    Related = dict(zip(Related_video_title, Related_video_links))\n",
    "    Vid['Related'] = Related\n",
    "    with open('vfile.json', 'w', encoding='utf8') as ou:\n",
    "        json.dump(Vid, ou, ensure_ascii=False)\n",
    "        return(Vid)\n"
   ]
  },
  {
   "cell_type": "code",
   "execution_count": 3,
   "metadata": {},
   "outputs": [
    {
     "output_type": "execute_result",
     "data": {
      "text/plain": "{'Title': 'Sam Smith - Diamonds',\n 'Channel': 'SAM SMITH',\n 'Subscribers': '13.4M subscribers',\n 'Tags': '#SamSmith #Diamonds',\n 'Views': '9,737,498 views',\n 'Likes': '',\n 'Dislikes': '',\n 'DateUpload': 'Premiered Sep 17, 2020',\n 'Link': 'https://www.youtube.com/watch?v=8RvAKRoIDqU',\n 'Related': {'Sam Smith - Too Good At Goodbyes (Live From Hackney Round Chapel)': 'https://www.youtube.com/watch?v=KPqtlI3aJIE',\n  'Mix - Sam Smith - Diamonds': 'https://www.youtube.com/watch?v=8RvAKRoIDqU&list=RD8RvAKRoIDqU&start_radio=1',\n  'Sam Smith - How Do You Sleep? (Official Video)': 'https://www.youtube.com/watch?v=PmYypVozQb4',\n  'Alessia Cara - Scars To Your Beautiful (Live Off The Floor)': 'https://www.youtube.com/watch?v=hg8XCSBRYE8',\n  'Justin Bieber - Holy ft. Chance The Rapper': 'https://www.youtube.com/watch?v=pvPsJFRGleA',\n  'Carpool Karaoke w/ Sam Smith ft. Fifth Harmony': 'https://www.youtube.com/watch?v=z2FHKVzGhgA',\n  \"Maroon 5 - Nobody's Love (Official Music Video)\": 'https://www.youtube.com/watch?v=7ghhRHRP6t4',\n  'Sam Smith - Pray (Live at the O2)': 'https://www.youtube.com/watch?v=4DhlX2EQlc0',\n  'Sam Smith - DIAMONDS (Lyrics)': 'https://www.youtube.com/watch?v=Ld6wBDQeMgU',\n  'Sam Smith - To Die For': 'https://www.youtube.com/watch?v=POIK1H3L86k',\n  'Lady Gaga - 911 (Official Music Video)': 'https://www.youtube.com/watch?v=58hoktsqk_Q',\n  'Sam Smith - Say It First (Live At Austin City Limits)': 'https://www.youtube.com/watch?v=IzhQ8rXj5uA',\n  'Sam Smith - My Oasis (feat Burna Boy) (Lyric Video) ft. Burna Boy': 'https://www.youtube.com/watch?v=byO74UGa8bI',\n  'Justin Bieber - Holy (Performance Version) ft. Chance The Rapper': 'https://www.youtube.com/watch?v=0eDJ0Tla0ac',\n  'Sam Smith, Normani - Dancing With A Stranger (Official Video)': 'https://www.youtube.com/watch?v=av5JD1dfj_c',\n  'JP Saxe - If the World Was Ending (Official Video) ft. Julia Michaels': 'https://www.youtube.com/watch?v=1jO2wSpAoxA',\n  'Beyoncé, Blue Ivy, SAINt JHN, WizKid - BROWN SKIN GIRL (Official Video)': 'https://www.youtube.com/watch?v=vRFS0MYTC1I',\n  'Sam Smith - Fix You (Live)': 'https://www.youtube.com/watch?v=ebB1fvJzT24',\n  'Sam Smith - Too Good At Goodbyes (Official Video)': 'https://www.youtube.com/watch?v=J_ub7Etch2U',\n  'Ali Gatie - Welcome Back feat. Alessia Cara (Official Music Video)': 'https://www.youtube.com/watch?v=KFF9ccipraw'}}"
     },
     "metadata": {},
     "execution_count": 3
    }
   ],
   "source": [
    "Get_info()"
   ]
  }
 ]
}